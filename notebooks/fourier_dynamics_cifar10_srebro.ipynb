{
 "cells": [
  {
   "cell_type": "code",
   "execution_count": 2,
   "metadata": {},
   "outputs": [],
   "source": [
    "import numpy as np\n",
    "import glob\n",
    "import time\n",
    "from model_robust import return_model\n",
    "import torch"
   ]
  },
  {
   "cell_type": "code",
   "execution_count": null,
   "metadata": {},
   "outputs": [],
   "source": [
    "def rgb2gray(rgb):\n",
    "\n",
    "    r, g, b = rgb[0,:,:], rgb[1,:,:], rgb[2,:,:]\n",
    "    gray = 0.2989 * r + 0.5870 * g + 0.1140 * b\n",
    "\n",
    "    return gray\n",
    "\n",
    "def get_fourier(imag):\n",
    "    image_sample = np.fft.fft2(imag)\n",
    "    F_orig = np.fft.fftshift(image_sample)\n",
    "    F_orig = np.log(np.abs(F_orig))\n",
    "    return F_orig\n",
    "\n",
    "import time\n",
    "import scipy.spatial\n",
    "#attacks = ['PGDLinf', 'PGDL2', 'PGDL1', 'BBLinf', 'BBL2']\n",
    "attacks = ['PGDLinf']\n",
    "m = time.time()\n",
    "namesss = ['fclinearl1relu', 'fclinearl3relu', 'convlinearl1k3c32relu', 'convlinearl3k3c32relu', 'lclinearl1k3c32relu', 'lclinearl3k3c32relu', 'lclinearl1k3c32reluconvinit', 'lclinearl3k3c32reluconvinit']\n",
    "\n",
    "#namesss = ['lclinearl1k3c32']\n",
    "for attack in attacks:\n",
    "    for model in namesss:\n",
    "        performance = 0\n",
    "        total = 0\n",
    "        checkpoint = torch.load('./cifar_resnet/ckpt_{}.pth'.format(model))\n",
    "        maxs = checkpoint['epoch']\n",
    "        print(model, maxs)\n",
    "        fouriers = []\n",
    "        fouriers_s = []\n",
    "        for i in range(maxs,maxs+1):\n",
    "            name = './cifar_resnet/{}_{}_adversarial.npy'.format(model,attack)\n",
    "            name_s = './cifar_resnet/{}_saliency.npy'.format(model)\n",
    "            b = np.load(name, allow_pickle=True)\n",
    "            a = np.load(name_s, allow_pickle=True)\n",
    "            b = b[0,:,:]\n",
    "            #a = a[0,:,:]\n",
    "            for j in range(b.shape[0]):\n",
    "                if b[j,3] != None:\n",
    "                    delta = b[j,0] - b[j,1]\n",
    "                    delta_s = a[j]\n",
    "                    delta = rgb2gray(delta)\n",
    "                    fourier_s = np.abs(delta_s).mean(axis=0)\n",
    "                    fourier_s = get_fourier(fourier_s)\n",
    "                    fourier = get_fourier(delta)\n",
    "                    fouriers.append(fourier)\n",
    "                    fouriers_s.append(fourier_s)\n",
    "                    performance = performance + 1\n",
    "                total = total + 1\n",
    "\n",
    "        fouriers = np.array(fouriers)\n",
    "        fourier_s = np.array(fourier_s)\n",
    "        np.save('./cifar_resnet/cifar_dynamics_adv_{}_fourier_{}.npy'.format(attack,model), fouriers)\n",
    "        np.save('./cifar_resnet/cifar_dynamics_saliency_fourier_{}.npy'.format(model), fouriers_s)\n",
    "        print('Model {}, Attack: {}, Adversarial Success: {}'.format(model, attack, performance/total))\n",
    "\n"
   ]
  }
 ],
 "metadata": {
  "kernelspec": {
   "display_name": "Python 3",
   "language": "python",
   "name": "python3"
  },
  "language_info": {
   "codemirror_mode": {
    "name": "ipython",
    "version": 3
   },
   "file_extension": ".py",
   "mimetype": "text/x-python",
   "name": "python",
   "nbconvert_exporter": "python",
   "pygments_lexer": "ipython3",
   "version": "3.6.9"
  }
 },
 "nbformat": 4,
 "nbformat_minor": 4
}
