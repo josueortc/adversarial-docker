{
 "cells": [
  {
   "cell_type": "code",
   "execution_count": null,
   "metadata": {},
   "outputs": [],
   "source": [
    "from __future__ import print_function\n",
    "import argparse\n",
    "import torch\n",
    "import torch.nn as nn\n",
    "import torch.nn.functional as F\n",
    "import torch.optim as optim\n",
    "from torchvision import datasets, transforms\n",
    "from torch.optim.lr_scheduler import StepLR\n",
    "import numpy as np\n",
    "\n",
    "from mnist_models import return_model\n",
    "best_loss = 0\n",
    "\n"
   ]
  },
  {
   "cell_type": "markdown",
   "metadata": {},
   "source": [
    "## Dataset and Training"
   ]
  },
  {
   "cell_type": "code",
   "execution_count": null,
   "metadata": {},
   "outputs": [],
   "source": [
    "def train(args, model, device, train_loader, optimizer, epoch, name):\n",
    "    model.train()\n",
    "    for batch_idx, (data, target) in enumerate(train_loader):\n",
    "        data, target = data.to(device), target.to(device)\n",
    "        optimizer.zero_grad()\n",
    "        output = model(data)\n",
    "        output = F.log_softmax(output, dim=1)\n",
    "        loss = F.nll_loss(output, target)\n",
    "        loss.backward()\n",
    "        optimizer.step()\n",
    "        torch.save(model.state_dict(), \"./mnist_cnn/mnist_{}_{}_{}.pt\".format(name, batch_idx+1, epoch))\n",
    "\n",
    "def test(args, model, device, test_loader, epoch, name):\n",
    "    model.eval()\n",
    "    global best_loss\n",
    "    test_loss = 0\n",
    "    correct = 0\n",
    "    with torch.no_grad():\n",
    "        for data, target in test_loader:\n",
    "            #target[target==3] = 0\n",
    "            #target[target==5] = 2\n",
    "            data, target = data.to(device), target.to(device)\n",
    "            output = model(data)\n",
    "            output = F.log_softmax(output, dim=1)\n",
    "            test_loss += F.nll_loss(output, target, reduction='sum').item()  # sum up batch loss\n",
    "            pred = output.argmax(dim=1, keepdim=True)  # get the index of the max log-probability\n",
    "            correct += pred.eq(target.view_as(pred)).sum().item()\n",
    "\n",
    "    test_loss /= len(test_loader.dataset)\n",
    "    accuracy = 100. * correct / len(test_loader.dataset)\n",
    "\n",
    "    #print('\\nTest set: Average loss: {:.4f}, Accuracy: {}/{} ({:.0f}%)\\n'.format(\n",
    "    #    test_loss, correct, len(test_loader.dataset),\n",
    "    #    100. * correct / len(test_loader.dataset)))\n",
    "    if accuracy > best_loss:\n",
    "        print(\"Saving Model...\")\n",
    "        best_loss = accuracy\n",
    "        torch.save(model.state_dict(), \"./mnist_cnn/mnist_{}_10_{}.pt\".format(name, epoch))\n",
    "        print('\\nTest set {}: Average loss: {:.4f}, Accuracy: {}/{} ({:.0f}%)\\n'.format(epoch, test_loss, correct, len(test_loader.dataset),\n",
    "                    100. * correct / len(test_loader.dataset)))\n",
    "\n",
    "# Training settings\n",
    "batch_size = 64\n",
    "test_batch_size = 1000\n",
    "epochs = 14\n",
    "lr = 0.1\n",
    "sparseness = 0.0\n",
    "gamma = 0.7\n",
    "no_cuda = False\n",
    "seed = 1\n",
    "log_interval = 100\n",
    "save_model = True\n",
    "classes = 10\n",
    "args = {'epochs':epochs, 'batch-size':batch_size, 'test-batch-size':test_batch_size, 'lr':lr, 'sparseness':sparseness, 'gamma':gamma, 'no-cuda':no_cuda,\n",
    "       'seed':seed, 'log-interval':log_interval, 'save-model':save_model}\n",
    "use_cuda = not args['no-cuda'] and torch.cuda.is_available()\n",
    "\n",
    "torch.manual_seed(args['seed'])\n",
    "\n",
    "device = torch.device(\"cuda\" if use_cuda else \"cpu\")\n",
    "\n",
    "kwargs = {'num_workers': 1, 'pin_memory': True} if use_cuda else {}\n",
    "\n",
    "data_training = datasets.MNIST('../data', train=True, download=True,\n",
    "                               transform=transforms.Compose([transforms.ToTensor(),transforms.Normalize((0.1307,), (0.3081,))]))\n",
    "\n",
    "data_testing = datasets.MNIST('../data', train=False, transform=transforms.Compose([\n",
    "                       transforms.ToTensor(),\n",
    "                       transforms.Normalize((0.1307,), (0.3081,))]))\n",
    "\n",
    "idx = torch.tensor(data_training.targets) == 0\n",
    "for i in range(1,classes):\n",
    "    idx += torch.tensor(data_training.targets) == i\n",
    "data_training = torch.utils.data.dataset.Subset(data_training, np.where(idx==1)[0])\n",
    "\n",
    "idx = torch.tensor(data_testing.targets) == 0\n",
    "for i in range(1,classes):\n",
    "    idx += torch.tensor(data_testing.targets) == i\n",
    "    \n",
    "data_testing = torch.utils.data.dataset.Subset(data_testing, np.where(idx==1)[0])\n",
    "\n",
    "train_loader = torch.utils.data.DataLoader(data_training,\n",
    "    batch_size=args['batch-size'], shuffle=True, **kwargs)\n",
    "test_loader = torch.utils.data.DataLoader(data_testing,\n",
    "    batch_size=args['test-batch-size'], shuffle=True, **kwargs)\n",
    "\n"
   ]
  },
  {
   "cell_type": "markdown",
   "metadata": {},
   "source": [
    "## Select Model "
   ]
  },
  {
   "cell_type": "code",
   "execution_count": null,
   "metadata": {},
   "outputs": [],
   "source": [
    "name = 'full'\n",
    "model = return_model(name)\n",
    "model = model.to(device)\n",
    "optimizer = optim.Adam(model[-1].parameters(), lr=args['lr'])\n",
    "best_loss = 0\n",
    "scheduler = StepLR(optimizer, step_size=1, gamma=args['gamma'])\n",
    "for epoch in range(1, epochs + 1):\n",
    "    train(args, model, device, train_loader, optimizer, epoch, name)\n",
    "    test(args, model, device, test_loader, epoch, name)\n",
    "    scheduler.step()"
   ]
  },
  {
   "cell_type": "code",
   "execution_count": null,
   "metadata": {},
   "outputs": [],
   "source": []
  }
 ],
 "metadata": {
  "kernelspec": {
   "display_name": "Python 3",
   "language": "python",
   "name": "python3"
  },
  "language_info": {
   "codemirror_mode": {
    "name": "ipython",
    "version": 3
   },
   "file_extension": ".py",
   "mimetype": "text/x-python",
   "name": "python",
   "nbconvert_exporter": "python",
   "pygments_lexer": "ipython3",
   "version": "3.7.0"
  }
 },
 "nbformat": 4,
 "nbformat_minor": 4
}
